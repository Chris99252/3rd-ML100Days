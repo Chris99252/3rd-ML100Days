{
 "cells": [
  {
   "cell_type": "markdown",
   "metadata": {},
   "source": [
    "## 練習時間\n",
    "#### 請寫一個函式用來計算 Mean Square Error\n",
    "$ MSE = \\frac{1}{n}\\sum_{i=1}^{n}{(Y_i - \\hat{Y}_i)^2} $\n",
    "\n",
    "### Hint: [如何取平方](https://googoodesign.gitbooks.io/-ezpython/unit-1.html)"
   ]
  },
  {
   "cell_type": "markdown",
   "metadata": {},
   "source": [
    "# [作業目標]\n",
    "- 仿造範例的MAE函數, 自己寫一個MSE函數(參考上面公式)"
   ]
  },
  {
   "cell_type": "markdown",
   "metadata": {},
   "source": [
    "# [作業重點]\n",
    "- 注意程式的縮排\n",
    "- 是否能將數學公式, 轉換為 Python 的函式組合? (In[2], Out[2])"
   ]
  },
  {
   "cell_type": "code",
   "execution_count": 1,
   "metadata": {},
   "outputs": [],
   "source": [
    "# 載入基礎套件與代稱\n",
    "import numpy as np\n",
    "import matplotlib.pyplot as plt"
   ]
  },
  {
   "cell_type": "code",
   "execution_count": 2,
   "metadata": {},
   "outputs": [],
   "source": [
    "def mean_absolute_error(y, yp):\n",
    "    \"\"\"\n",
    "    計算 MAE 平均絕對誤差\n",
    "    Args:\n",
    "        - y: 實際值\n",
    "        - yp: 預測值\n",
    "    Return:\n",
    "        - mae: MAE\n",
    "    \"\"\"\n",
    "    mae = MAE = sum(abs(y - yp)) / len(y)\n",
    "    return mae\n",
    "\n",
    "# 定義 mean_squared_error 這個函數, 計算並傳回 MSE\n",
    "def mean_squared_error(y, yp):\n",
    "    \"\"\"\n",
    "    請完成這個 Function 後往下執行\n",
    "    \n",
    "    計算 MSE 平均平方誤差(均方差)\n",
    "    Args:\n",
    "        - y: 實際值\n",
    "        - yp: 預測值\n",
    "    Return:\n",
    "        - mse: MSE\n",
    "    \"\"\"\n",
    "    \n",
    "    mse = MSE = sum(np.square(y - yp)) / len(y)\n",
    "    return mse\n",
    "    "
   ]
  },
  {
   "cell_type": "code",
   "execution_count": 3,
   "metadata": {},
   "outputs": [
    {
     "data": {
      "image/png": "[encoded data removed]",
      "text/plain": [
       "<Figure size 432x288 with 1 Axes>"
      ]
     },
     "metadata": {
      "needs_background": "light"
     },
     "output_type": "display_data"
    }
   ],
   "source": [
    "# 與範例相同, 不另外解說\n",
    "w = 3\n",
    "b = 0.5\n",
    "x_lin = np.linspace(0, 100, 101)\n",
    "y = (x_lin + np.random.randn(101) * 5) * w + b\n",
    "\n",
    "plt.plot(x_lin, y, 'b.', label = 'data points')\n",
    "plt.title(\"Assume we have data points\")\n",
    "plt.legend(loc = 2)\n",
    "plt.show()"
   ]
  },
  {
   "cell_type": "code",
   "execution_count": 4,
   "metadata": {},
   "outputs": [
    {
     "data": {
      "image/png": "[encoded data removed]",
      "text/plain": [
       "<Figure size 432x288 with 1 Axes>"
      ]
     },
     "metadata": {
      "needs_background": "light"
     },
     "output_type": "display_data"
    }
   ],
   "source": [
    "# 與範例相同, 不另外解說\n",
    "y_hat = x_lin * w + b\n",
    "plt.plot(x_lin, y, 'b.', label = 'data')\n",
    "plt.plot(x_lin, y_hat, 'r-', label = 'prediction')\n",
    "plt.title(\"Assume we have data points (And the prediction)\")\n",
    "plt.legend(loc = 2)\n",
    "plt.show()"
   ]
  },
  {
   "cell_type": "code",
   "execution_count": 5,
   "metadata": {},
   "outputs": [
    {
     "name": "stdout",
     "output_type": "stream",
     "text": [
      "The Mean squared error is 239.969\n",
      "The Mean absolute error is 12.513\n"
     ]
    }
   ],
   "source": [
    "# 執行 Function, 確認有沒有正常執行\n",
    "MSE = mean_squared_error(y, y_hat)\n",
    "MAE = mean_absolute_error(y, y_hat)\n",
    "print(\"The Mean squared error is %.3f\" % (MSE))\n",
    "print(\"The Mean absolute error is %.3f\" % (MAE))"
   ]
  },
  {
   "cell_type": "markdown",
   "metadata": {},
   "source": [
    "# [作業2]\n",
    "\n",
    "請上 Kaggle, 在 Competitions 或 Dataset 中找一組競賽或資料並寫下：\n",
    "\n",
    "TMDB 5000 Movie Dataset (https://www.kaggle.com/tmdb/tmdb-movie-metadata)\n",
    "\n",
    "1. 你選的這組資料為何重要\n",
    "\n",
    "現在拍一部電影動輒一兩億美元，就算花了那麼多錢，也不能保證你一定會成功\n",
    "\n",
    "此組預測模型，能作為片商在電影上映之前，評估票房會不會成功的依據\n",
    "\n",
    "2. 資料從何而來 (tips: 譬如提供者是誰、以什麼方式蒐集)\n",
    "\n",
    "資料是從 The Movie Database (TMDb) 所提供的 API 取得\n",
    "\n",
    "https://www.themoviedb.org/documentation/api\n",
    "\n",
    "3. 蒐集而來的資料型態為何\n",
    "\n",
    "該資料蒐集了兩資料集，1. 電影的卡司與人員資訊 2. 與電影相關的票房資訊\n",
    "\n",
    "電影的卡司與人員資訊 : movie_id (string), title (string), cast (string), crew (string)\n",
    "\n",
    "與電影相關的票房資訊 :　budget (numeric), genres (string), homepage (string)\n",
    "id (numeric), keywords (string), original_language (string), original_title (string)\n",
    "overview (string), popularity (numeric), production_companies (string)\n",
    "production_countries (string), release_date (date), revenue (numeric)\n",
    "runtime (numeric), spoken_languages (string), status (string), tagline (string)\n",
    "title (string), vote_average (numeric), vote_count (numeric)\n",
    "\n",
    "4. 這組資料想解決的問題如何評估\n",
    "\n",
    "此為　Dataset　資料集的專案，並沒有特別說明他想解決的問題\n",
    "\n",
    "以下自行舉出兩個問題與評估方式\n",
    "\n",
    "1. 片商在決定好卡司後，想要知道該片演員與製作團隊組合之下的觀眾喜愛的程度。多線性回歸模型 scatterplotMatrix。\n",
    "\n",
    "2. 片商想知道同類型的電影投入的預算與實際的票房差距，決定要投入的金額大概為多少。信賴區間 / 標準差。\n",
    "\n",
    "# [作業3]\n",
    "\n",
    "想像你經營一個自由載客車隊，你希望能透過數據分析以提升業績，請你思考並描述你如何規劃整體的分析/解決方案：\n",
    "\n",
    "1. 核心問題為何 (tips：如何定義 「提升業績 & 你的假設」)\n",
    "\n",
    "提升業績，在整體環境不變之下(工作時間、出勤車輛數)，載客率是提升業績的核心\n",
    "\n",
    "假設 : 同樣的工作時間，同樣的出勤車輛數，準確派遣車輛至最近距離且最活耀的地區，是提升載客率的關鍵\n",
    "\n",
    "\n",
    "2. 資料從何而來 (tips：哪些資料可能會對你想問的問題產生影響 & 資料如何蒐集)\n",
    "\n",
    "地域的人口資訊 : 該地域的人口數、工作人口分佈、擁車比例，周遭停車位數量。(政府公開資訊搜集)\n",
    "\n",
    "地域的交通流量 : 該地域大眾交通工具站點與計程車的分布，通勤移動的熱點路線。(政府公開資料搜集+車隊的歷史定位資訊)\n",
    "\n",
    "選擇搭計程車的尖峰時段 : 排序該地域每小時的載客率。(車隊的歷史載客資訊)\n",
    "\n",
    "\n",
    "3. 蒐集而來的資料型態為何\n",
    "\n",
    "結構化資料(string, numeric, date)組成的多個dataset\n",
    "\n",
    "4. 你要回答的問題，其如何評估 (tips：你的假設如何驗證)\n",
    "\n",
    "建立出預測模型，找出當下車輛該時段該地域的載客熱點，當日的營收與去年當日營收做比較。\n"
   ]
  }
 ],
 "metadata": {
  "anaconda-cloud": {},
  "kernelspec": {
   "display_name": "Python 3",
   "language": "python",
   "name": "python3"
  },
  "language_info": {
   "codemirror_mode": {
    "name": "ipython",
    "version": 3
   },
   "file_extension": ".py",
   "mimetype": "text/x-python",
   "name": "python",
   "nbconvert_exporter": "python",
   "pygments_lexer": "ipython3",
   "version": "3.7.3"
  }
 },
 "nbformat": 4,
 "nbformat_minor": 1
}
